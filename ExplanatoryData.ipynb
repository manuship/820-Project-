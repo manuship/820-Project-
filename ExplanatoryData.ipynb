{
  "nbformat": 4,
  "nbformat_minor": 0,
  "metadata": {
    "colab": {
      "name": "ExplanatoryData.ipynb",
      "private_outputs": true,
      "provenance": []
    },
    "kernelspec": {
      "name": "python3",
      "display_name": "Python 3"
    }
  },
  "cells": [
    {
      "cell_type": "code",
      "metadata": {
        "id": "gcs3ETIKr3nB"
      },
      "source": [
        "import pandas as pd\r\n",
        "import seaborn as sns\r\n"
      ],
      "execution_count": null,
      "outputs": []
    },
    {
      "cell_type": "code",
      "metadata": {
        "id": "XPc3Ze_ctkPc"
      },
      "source": [
        "data = pd.read_csv(\"insurance.csv\")\r\n",
        "data.head(10)"
      ],
      "execution_count": null,
      "outputs": []
    },
    {
      "cell_type": "code",
      "metadata": {
        "id": "vU8HKTJltkSf"
      },
      "source": [
        "data.info()"
      ],
      "execution_count": null,
      "outputs": []
    },
    {
      "cell_type": "code",
      "metadata": {
        "id": "WVpcTFfXtkVY"
      },
      "source": [
        "data.shape"
      ],
      "execution_count": null,
      "outputs": []
    },
    {
      "cell_type": "code",
      "metadata": {
        "id": "6578aFkPtkas"
      },
      "source": [
        "data.describe()\r\n",
        "#We see that the age is between 18 and 64 with a mean of 39 and a standard deviation of 14\r\n",
        "#Bmi is between 15.96 and 53.13 and a mean of 30.66 with a standard deviation of 6.09\r\n",
        "#The number of Children are between 0 and 5 with a mean of 1.09\r\n",
        "# The charges are between 1121.87 and 63770.42 with a mean of 13270.42"
      ],
      "execution_count": null,
      "outputs": []
    },
    {
      "cell_type": "code",
      "metadata": {
        "id": "fh8cST4Itkdr"
      },
      "source": [
        "data.sort_values(\"charges\", ascending=False).head()"
      ],
      "execution_count": null,
      "outputs": []
    },
    {
      "cell_type": "code",
      "metadata": {
        "id": "ywr4BWQAxKcq"
      },
      "source": [
        "sns.distplot(data.age)\r\n",
        "#The data is not normally distributed as there are too many people in the age of 20 "
      ],
      "execution_count": null,
      "outputs": []
    },
    {
      "cell_type": "code",
      "metadata": {
        "id": "JGZ7gbuQxKfk"
      },
      "source": [
        "sns.distplot(data.bmi)\r\n",
        "#BMI looks normally distributed"
      ],
      "execution_count": null,
      "outputs": []
    },
    {
      "cell_type": "code",
      "metadata": {
        "id": "COUS-EYXxKiW"
      },
      "source": [
        "sns.distplot(data.children)\r\n",
        "#A lot of people have no children\r\n",
        "data.children.value_counts()"
      ],
      "execution_count": null,
      "outputs": []
    },
    {
      "cell_type": "code",
      "metadata": {
        "id": "75oInzjfxKnB"
      },
      "source": [
        "sns.distplot(data.charges)"
      ],
      "execution_count": null,
      "outputs": []
    },
    {
      "cell_type": "code",
      "metadata": {
        "id": "F9cGUKcpxKpu"
      },
      "source": [
        "#Lets make the categorical variables sex and smoker, binary\r\n",
        "data['sex'] = data.apply(lambda row : 0 if row['sex'] == 'male' else 1, axis=1)\r\n",
        "data['smoker'] = data.apply(lambda row : 0 if row['smoker'] == 'yes' else 1, axis=1)\r\n",
        "data.head(50)"
      ],
      "execution_count": null,
      "outputs": []
    },
    {
      "cell_type": "code",
      "metadata": {
        "id": "68xzWcMSxKvC"
      },
      "source": [
        "data.groupby('sex').charges.mean()"
      ],
      "execution_count": null,
      "outputs": []
    },
    {
      "cell_type": "code",
      "metadata": {
        "id": "b6YFXVLqxKz9"
      },
      "source": [
        ""
      ],
      "execution_count": null,
      "outputs": []
    }
  ]
}